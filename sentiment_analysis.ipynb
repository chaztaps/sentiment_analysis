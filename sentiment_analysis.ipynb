{
 "cells": [
  {
   "cell_type": "code",
   "execution_count": 1,
   "metadata": {
    "ExecuteTime": {
     "end_time": "2020-04-22T16:03:34.675700Z",
     "start_time": "2020-04-22T16:03:26.877962Z"
    }
   },
   "outputs": [
    {
     "name": "stderr",
     "output_type": "stream",
     "text": [
      "//anaconda3/lib/python3.7/site-packages/statsmodels/tools/_testing.py:19: FutureWarning: pandas.util.testing is deprecated. Use the functions in the public API at pandas.testing instead.\n",
      "  import pandas.util.testing as tm\n",
      "Using TensorFlow backend.\n"
     ]
    },
    {
     "data": {
      "text/html": [
       "<style>.container { width:90% !important; }</style>"
      ],
      "text/plain": [
       "<IPython.core.display.HTML object>"
      ]
     },
     "metadata": {},
     "output_type": "display_data"
    }
   ],
   "source": [
    "#BASIC MODULES\n",
    "import re\n",
    "import os\n",
    "import string\n",
    "import numpy as np\n",
    "import pandas as pd\n",
    "import seaborn as sn\n",
    "from numpy import array\n",
    "import matplotlib.pyplot as plt\n",
    "\n",
    "#MODULE FOR STRATIFIED K-FOLD CROSS-VALIDATION\n",
    "from sklearn.model_selection import StratifiedKFold\n",
    "\n",
    "#KERAS MODULES FOR NN MODELS\n",
    "from keras import optimizers\n",
    "from tensorflow.keras.callbacks import EarlyStopping, ModelCheckpoint\n",
    "from keras.preprocessing.text import one_hot\n",
    "from keras.preprocessing.sequence import pad_sequences\n",
    "from keras.models import Sequential\n",
    "from keras.layers import Dense, Flatten\n",
    "from keras.layers.embeddings import Embedding\n",
    "from nltk.stem import WordNetLemmatizer\n",
    "\n",
    "#MODULES FOR DISPLAY PURPOSES\n",
    "pd.set_option('display.max_rows', 5000)\n",
    "pd.set_option('display.max_columns', 5000)\n",
    "pd.set_option('display.width', 10000)\n",
    "pd.set_option('display.max_colwidth', 100000000)\n",
    "pd.set_option('display.max_info_columns', 100000000)\n",
    "from IPython.core.display import display, HTML\n",
    "display(HTML(\"<style>.container { width:90% !important; }</style>\"))\n",
    "\n",
    "#HIDE REPEATING WARNING\n",
    "def warn(*args, **kwargs):\n",
    "    pass\n",
    "import warnings\n",
    "warnings.warn = warn"
   ]
  },
  {
   "cell_type": "code",
   "execution_count": 2,
   "metadata": {
    "ExecuteTime": {
     "end_time": "2020-04-22T16:03:35.059248Z",
     "start_time": "2020-04-22T16:03:34.678204Z"
    }
   },
   "outputs": [
    {
     "data": {
      "text/plain": [
       "1    1683\n",
       "0    1683\n",
       "Name: Sentiment, dtype: int64"
      ]
     },
     "execution_count": 2,
     "metadata": {},
     "output_type": "execute_result"
    }
   ],
   "source": [
    "#IMPORT DATA AND DROP DUPLICATES\n",
    "df = pd.read_excel('train.xlsx')\n",
    "df = df.drop_duplicates('Sentence')\n",
    "\n",
    "#NUMERIZE SENTIMENT\n",
    "polarity = {'positive': 1,'negative': 0} \n",
    "df['Sentiment'] = [polarity[item] for item in df.Sentiment] \n",
    "\n",
    "#BALANCE SENTIMENT\n",
    "pos = df[df.Sentiment==1].sample(n = len(df[df.Sentiment==0]))\n",
    "neg = df[df.Sentiment==0]\n",
    "df = pos.append(neg)\n",
    "df.Sentiment.value_counts()"
   ]
  },
  {
   "cell_type": "code",
   "execution_count": 3,
   "metadata": {
    "ExecuteTime": {
     "end_time": "2020-04-22T16:03:36.757933Z",
     "start_time": "2020-04-22T16:03:35.081446Z"
    }
   },
   "outputs": [
    {
     "data": {
      "text/html": [
       "<div>\n",
       "<style scoped>\n",
       "    .dataframe tbody tr th:only-of-type {\n",
       "        vertical-align: middle;\n",
       "    }\n",
       "\n",
       "    .dataframe tbody tr th {\n",
       "        vertical-align: top;\n",
       "    }\n",
       "\n",
       "    .dataframe thead th {\n",
       "        text-align: right;\n",
       "    }\n",
       "</style>\n",
       "<table border=\"1\" class=\"dataframe\">\n",
       "  <thead>\n",
       "    <tr style=\"text-align: right;\">\n",
       "      <th></th>\n",
       "      <th>Sentence</th>\n",
       "      <th>Sentence2</th>\n",
       "      <th>length</th>\n",
       "      <th>Sentiment</th>\n",
       "    </tr>\n",
       "  </thead>\n",
       "  <tbody>\n",
       "    <tr>\n",
       "      <th>0</th>\n",
       "      <td>good value and extremely helpful and courteous staff.</td>\n",
       "      <td>good value and extremely helpful and courteous staff</td>\n",
       "      <td>8</td>\n",
       "      <td>1</td>\n",
       "    </tr>\n",
       "    <tr>\n",
       "      <th>1</th>\n",
       "      <td>It was very easy to complete and answer all the questions and everything was clear and the final payment much cheaper than the quote from my previous insurer.</td>\n",
       "      <td>it be very easy to complete and answer all the question and everything be clear and the final payment much cheaper than the quote from my previous insurer</td>\n",
       "      <td>28</td>\n",
       "      <td>1</td>\n",
       "    </tr>\n",
       "  </tbody>\n",
       "</table>\n",
       "</div>"
      ],
      "text/plain": [
       "                                                                                                                                                         Sentence                                                                                                                                                   Sentence2  length  Sentiment\n",
       "0                                                                                                           good value and extremely helpful and courteous staff.                                                                                                        good value and extremely helpful and courteous staff       8          1\n",
       "1  It was very easy to complete and answer all the questions and everything was clear and the final payment much cheaper than the quote from my previous insurer.  it be very easy to complete and answer all the question and everything be clear and the final payment much cheaper than the quote from my previous insurer      28          1"
      ]
     },
     "execution_count": 3,
     "metadata": {},
     "output_type": "execute_result"
    }
   ],
   "source": [
    "#NORMALIZE TEXT DATA\n",
    "\n",
    "#SHUFFLE\n",
    "df = df.sample(frac=1).reset_index(drop=True)\n",
    "\n",
    "#LOWER CASE\n",
    "df['Sentence2'] = [x.lower() for x in df.Sentence]\n",
    "\n",
    "#CONTRACTIONS\n",
    "def decontracted(phrase):\n",
    "    phrase = re.sub(r\"n\\'t\", \" not\", phrase)\n",
    "    phrase = re.sub(r\"\\'re\", \" are\", phrase)\n",
    "    phrase = re.sub(r\"\\'s\", \" is\", phrase)\n",
    "    phrase = re.sub(r\"\\'d\", \" would\", phrase)\n",
    "    phrase = re.sub(r\"\\'ll\", \" will\", phrase)\n",
    "    phrase = re.sub(r\"\\'t\", \" not\", phrase)\n",
    "    phrase = re.sub(r\"\\'ve\", \" have\", phrase)\n",
    "    phrase = re.sub(r\"\\'m\", \" am\", phrase)\n",
    "    return phrase\n",
    "df['Sentence2'] = [decontracted(x) for x in df['Sentence2']]\n",
    "\n",
    "\n",
    "#REMOVE PUNCTUATION\n",
    "df['Sentence2'] = df['Sentence2'].str.replace(\"[^a-zA-Z#]\", \" \")\n",
    "df['Sentence2'] = [x.replace(\"\\\\n\",'') for x in df.Sentence2]\n",
    "\n",
    "#TOKENIZE - FOR NLTK\n",
    "df['Sentence2'] = [x.split() for x in df.Sentence2]\n",
    "\n",
    "#LEMENZIE - NLTK\n",
    "wordnet_lemmatizer = WordNetLemmatizer()\n",
    "def lem(words):\n",
    "    return [wordnet_lemmatizer.lemmatize(word,pos=\"v\") for word in words]\n",
    "df['Sentence2'] = [lem(x) for x in df['Sentence2']]\n",
    "df['Sentence2'] = [\" \".join(x) for x in df.Sentence2]\n",
    "\n",
    "#FIND NUMBER OF WORDS IN EACH ENTRY\n",
    "df['length'] = [len(x.split()) for x in df.Sentence2]\n",
    "df = df[['Sentence','Sentence2','length','Sentiment']]\n",
    "df.head(2)"
   ]
  },
  {
   "cell_type": "code",
   "execution_count": 4,
   "metadata": {
    "ExecuteTime": {
     "end_time": "2020-04-22T16:03:36.783626Z",
     "start_time": "2020-04-22T16:03:36.759904Z"
    }
   },
   "outputs": [
    {
     "data": {
      "text/plain": [
       "3376"
      ]
     },
     "execution_count": 4,
     "metadata": {},
     "output_type": "execute_result"
    }
   ],
   "source": [
    "#FIND NUMBER OF UNIQUE WORDS\n",
    "allwords = df.Sentence2.values.tolist()\n",
    "vocab_size = len(list(set(\" \".join(allwords).split())))\n",
    "vocab_size"
   ]
  },
  {
   "cell_type": "code",
   "execution_count": 5,
   "metadata": {
    "ExecuteTime": {
     "end_time": "2020-04-22T16:03:36.902273Z",
     "start_time": "2020-04-22T16:03:36.790251Z"
    }
   },
   "outputs": [],
   "source": [
    "#GET FROM DATAFRAME\n",
    "X = df['Sentence2'].values.tolist()\n",
    "y = df['Sentiment'].values\n",
    "\n",
    "#CONVERT WORDS TO NUMBERS\n",
    "X_encoded = [one_hot(d, vocab_size) for d in X]\n",
    "\n",
    "#PADDING OUT ARRAYS TO LENGTH OF LONGEST ARRAY\n",
    "max_length = df['length'].max()+10 # plus 10 TO ACCOUNT FOR EXTRA WORDS DURING TESTING\n",
    "X_padded = pad_sequences(X_encoded, maxlen=max_length, padding='post')"
   ]
  },
  {
   "cell_type": "code",
   "execution_count": 6,
   "metadata": {
    "ExecuteTime": {
     "end_time": "2020-04-22T16:03:36.911838Z",
     "start_time": "2020-04-22T16:03:36.906687Z"
    }
   },
   "outputs": [
    {
     "name": "stdout",
     "output_type": "stream",
     "text": [
      "it be very easy to complete and answer all the question and everything be clear and the final payment much cheaper than the quote from my previous insurer \n",
      "\n",
      "[1095, 3008, 1276, 631, 3317, 2356, 2275, 1707, 2116, 1436, 16, 2275, 3196, 3008, 2691, 2275, 1436, 304, 3341, 80, 617, 1593, 1436, 2060, 1071, 2939, 334, 685] \n",
      "\n",
      "[1095 3008 1276  631 3317 2356 2275 1707 2116 1436   16 2275 3196 3008\n",
      " 2691 2275 1436  304 3341   80  617 1593 1436 2060 1071 2939  334  685\n",
      "    0    0    0    0    0    0    0    0    0    0    0    0    0    0\n",
      "    0    0    0    0    0    0    0    0    0    0    0    0    0    0\n",
      "    0    0    0    0    0    0    0    0    0    0    0    0    0    0\n",
      "    0    0    0    0    0    0    0    0    0    0    0    0    0    0\n",
      "    0    0    0    0    0    0    0    0    0    0    0    0    0    0\n",
      "    0    0    0    0    0    0    0    0    0    0    0    0    0    0\n",
      "    0    0    0    0    0    0    0    0    0    0    0    0    0    0\n",
      "    0    0    0    0    0    0    0    0    0    0    0    0    0    0\n",
      "    0    0    0    0    0    0    0    0    0]\n"
     ]
    }
   ],
   "source": [
    "#DISPLAY VARIOUS STAGES OF DATA TRANSFORMATION\n",
    "print(X[1],\"\\n\")\n",
    "print(X_encoded[1],\"\\n\")\n",
    "print(X_padded[1])"
   ]
  },
  {
   "cell_type": "code",
   "execution_count": 8,
   "metadata": {
    "ExecuteTime": {
     "end_time": "2020-04-22T16:23:53.720828Z",
     "start_time": "2020-04-22T16:20:49.547472Z"
    },
    "scrolled": false
   },
   "outputs": [
    {
     "name": "stdout",
     "output_type": "stream",
     "text": [
      "Fold #1\n",
      "Train on 2692 samples, validate on 674 samples\n",
      "Epoch 1/999\n",
      "2692/2692 [==============================] - 6s 2ms/step - loss: 0.4860 - accuracy: 0.7671 - val_loss: 0.3834 - val_accuracy: 0.8427\n",
      "Epoch 2/999\n",
      "2692/2692 [==============================] - 6s 2ms/step - loss: 0.3494 - accuracy: 0.8704 - val_loss: 0.4027 - val_accuracy: 0.8635\n",
      "Epoch 3/999\n",
      "2692/2692 [==============================] - 6s 2ms/step - loss: 0.2962 - accuracy: 0.8908 - val_loss: 0.4494 - val_accuracy: 0.8620\n",
      "Epoch 4/999\n",
      "2692/2692 [==============================] - 5s 2ms/step - loss: 0.2545 - accuracy: 0.9134 - val_loss: 0.4610 - val_accuracy: 0.8605\n",
      "Epoch 5/999\n",
      "2692/2692 [==============================] - 5s 2ms/step - loss: 0.2055 - accuracy: 0.9316 - val_loss: 0.5145 - val_accuracy: 0.8694\n",
      "Epoch 6/999\n",
      "2692/2692 [==============================] - 6s 2ms/step - loss: 0.1689 - accuracy: 0.9461 - val_loss: 0.5467 - val_accuracy: 0.8561\n",
      "\n",
      "Fold #2\n",
      "Train on 2692 samples, validate on 674 samples\n",
      "Epoch 1/999\n",
      "2692/2692 [==============================] - 6s 2ms/step - loss: 0.4827 - accuracy: 0.7533 - val_loss: 0.4074 - val_accuracy: 0.8264\n",
      "Epoch 2/999\n",
      "2692/2692 [==============================] - 6s 2ms/step - loss: 0.3299 - accuracy: 0.8741 - val_loss: 0.4313 - val_accuracy: 0.8323\n",
      "Epoch 3/999\n",
      "2692/2692 [==============================] - 6s 2ms/step - loss: 0.2898 - accuracy: 0.8934 - val_loss: 0.4323 - val_accuracy: 0.8442\n",
      "Epoch 4/999\n",
      "2692/2692 [==============================] - 6s 2ms/step - loss: 0.2398 - accuracy: 0.9149 - val_loss: 0.4624 - val_accuracy: 0.8620\n",
      "Epoch 5/999\n",
      "2692/2692 [==============================] - 6s 2ms/step - loss: 0.1978 - accuracy: 0.9316 - val_loss: 0.4619 - val_accuracy: 0.8620\n",
      "Epoch 6/999\n",
      "2692/2692 [==============================] - 6s 2ms/step - loss: 0.1559 - accuracy: 0.9487 - val_loss: 0.5316 - val_accuracy: 0.8323\n",
      "\n",
      "Fold #3\n",
      "Train on 2692 samples, validate on 674 samples\n",
      "Epoch 1/999\n",
      "2692/2692 [==============================] - 6s 2ms/step - loss: 0.4775 - accuracy: 0.7667 - val_loss: 0.3931 - val_accuracy: 0.8279\n",
      "Epoch 2/999\n",
      "2692/2692 [==============================] - 6s 2ms/step - loss: 0.3445 - accuracy: 0.8700 - val_loss: 0.4148 - val_accuracy: 0.8620\n",
      "Epoch 3/999\n",
      "2692/2692 [==============================] - 7s 2ms/step - loss: 0.2970 - accuracy: 0.8930 - val_loss: 0.4654 - val_accuracy: 0.8546\n",
      "Epoch 4/999\n",
      "2692/2692 [==============================] - 6s 2ms/step - loss: 0.2520 - accuracy: 0.9116 - val_loss: 0.4658 - val_accuracy: 0.8620\n",
      "Epoch 5/999\n",
      "2692/2692 [==============================] - 6s 2ms/step - loss: 0.2001 - accuracy: 0.9316 - val_loss: 0.4874 - val_accuracy: 0.8620\n",
      "Epoch 6/999\n",
      "2692/2692 [==============================] - 7s 2ms/step - loss: 0.1577 - accuracy: 0.9465 - val_loss: 0.5193 - val_accuracy: 0.8561\n",
      "\n",
      "Fold #4\n",
      "Train on 2694 samples, validate on 672 samples\n",
      "Epoch 1/999\n",
      "2694/2694 [==============================] - 7s 3ms/step - loss: 0.4902 - accuracy: 0.7647 - val_loss: 0.3486 - val_accuracy: 0.8601\n",
      "Epoch 2/999\n",
      "2694/2694 [==============================] - 6s 2ms/step - loss: 0.3434 - accuracy: 0.8630 - val_loss: 0.3701 - val_accuracy: 0.8661\n",
      "Epoch 3/999\n",
      "2694/2694 [==============================] - 6s 2ms/step - loss: 0.2972 - accuracy: 0.8961 - val_loss: 0.3938 - val_accuracy: 0.8690\n",
      "Epoch 4/999\n",
      "2694/2694 [==============================] - 6s 2ms/step - loss: 0.2470 - accuracy: 0.9183 - val_loss: 0.4302 - val_accuracy: 0.8690\n",
      "Epoch 5/999\n",
      "2694/2694 [==============================] - 6s 2ms/step - loss: 0.1960 - accuracy: 0.9343 - val_loss: 0.4509 - val_accuracy: 0.8571\n",
      "Epoch 6/999\n",
      "2694/2694 [==============================] - 6s 2ms/step - loss: 0.1556 - accuracy: 0.9473 - val_loss: 0.5164 - val_accuracy: 0.8542\n",
      "\n",
      "Fold #5\n",
      "Train on 2694 samples, validate on 672 samples\n",
      "Epoch 1/999\n",
      "2694/2694 [==============================] - 6s 2ms/step - loss: 0.4855 - accuracy: 0.7628 - val_loss: 0.3998 - val_accuracy: 0.8229\n",
      "Epoch 2/999\n",
      "2694/2694 [==============================] - 6s 2ms/step - loss: 0.3410 - accuracy: 0.8731 - val_loss: 0.4144 - val_accuracy: 0.8318\n",
      "Epoch 3/999\n",
      "2694/2694 [==============================] - 6s 2ms/step - loss: 0.2913 - accuracy: 0.8961 - val_loss: 0.4353 - val_accuracy: 0.8363\n",
      "Epoch 4/999\n",
      "2694/2694 [==============================] - 6s 2ms/step - loss: 0.2390 - accuracy: 0.9172 - val_loss: 0.4561 - val_accuracy: 0.8408\n",
      "Epoch 5/999\n",
      "2694/2694 [==============================] - 6s 2ms/step - loss: 0.1946 - accuracy: 0.9343 - val_loss: 0.4832 - val_accuracy: 0.8467\n",
      "Epoch 6/999\n",
      "2694/2694 [==============================] - 6s 2ms/step - loss: 0.1503 - accuracy: 0.9514 - val_loss: 0.5086 - val_accuracy: 0.8348\n",
      "\n"
     ]
    }
   ],
   "source": [
    "#K-FOLDS SPLITTING\n",
    "kf = StratifiedKFold(5, shuffle=True, random_state=42)\n",
    "scores = pd.DataFrame(columns = ['Dimensions','Epochs','Fold','Val_Acc','Val_Loss'])\n",
    "val_acc_scores = []\n",
    "val_loss_scores = []\n",
    "fold = 0\n",
    "for train, val in kf.split(X_padded,df['Sentiment']):\n",
    "    fold+=1\n",
    "    print(f\"Fold #{fold}\")\n",
    "    X_train = X_padded[train]\n",
    "    y_train = y[train]\n",
    "    X_val = X_padded[val]\n",
    "    y_val = y[val]\n",
    "    \n",
    "    #dims = [10,20,40,80,160,320]\n",
    "    dims = [80] # YIELDS BEST RESULTS\n",
    "    for dim in dims:\n",
    "        #BUILD NN\n",
    "        model = Sequential()\n",
    "        model.add(Embedding(vocab_size, dim, input_length=max_length))\n",
    "        model.add(Flatten())\n",
    "        model.add(Dense(1, activation='sigmoid'))\n",
    "        \n",
    "        #EARLY STOPPING\n",
    "        Callbacks = EarlyStopping(monitor='val_loss', \n",
    "                                                  min_delta=0.00001, \n",
    "                                                  patience=5, \n",
    "                                                  verbose=0, \n",
    "                                                  mode='auto')\n",
    "        \n",
    "        #COMPILE NN\n",
    "        model.compile(optimizer='rmsprop',\n",
    "                      loss='binary_crossentropy',\n",
    "                      metrics=['accuracy'])\n",
    "        \n",
    "        #RUN MODEL AND RECORD METRICS    \n",
    "        history = model.fit(X_train, y_train,\n",
    "                        batch_size=1,\n",
    "                        epochs=999,\n",
    "                        callbacks = [Callbacks],\n",
    "                        validation_data=(X_val, y_val),verbose=1)\n",
    "        \n",
    "        dictionary = {'Dimensions':dim, 'Epochs':len(history.history['val_accuracy']),'Fold':fold, 'Val_Acc':history.history['val_accuracy'][0],'Val_Loss':history.history['val_loss'][0]}\n",
    "        scores = scores.append(dictionary, ignore_index=True)\n",
    "        print()"
   ]
  },
  {
   "cell_type": "code",
   "execution_count": 9,
   "metadata": {
    "ExecuteTime": {
     "end_time": "2020-04-22T16:24:00.608936Z",
     "start_time": "2020-04-22T16:24:00.558245Z"
    },
    "scrolled": false
   },
   "outputs": [
    {
     "data": {
      "text/html": [
       "<div>\n",
       "<style scoped>\n",
       "    .dataframe tbody tr th:only-of-type {\n",
       "        vertical-align: middle;\n",
       "    }\n",
       "\n",
       "    .dataframe tbody tr th {\n",
       "        vertical-align: top;\n",
       "    }\n",
       "\n",
       "    .dataframe thead th {\n",
       "        text-align: right;\n",
       "    }\n",
       "</style>\n",
       "<table border=\"1\" class=\"dataframe\">\n",
       "  <thead>\n",
       "    <tr style=\"text-align: right;\">\n",
       "      <th></th>\n",
       "      <th>Dimensions</th>\n",
       "      <th>Epochs</th>\n",
       "      <th>Fold</th>\n",
       "      <th>Val_Acc</th>\n",
       "      <th>Val_Loss</th>\n",
       "    </tr>\n",
       "  </thead>\n",
       "  <tbody>\n",
       "    <tr>\n",
       "      <th>0</th>\n",
       "      <td>80.0</td>\n",
       "      <td>6.0</td>\n",
       "      <td>1.0</td>\n",
       "      <td>0.842730</td>\n",
       "      <td>0.383363</td>\n",
       "    </tr>\n",
       "    <tr>\n",
       "      <th>1</th>\n",
       "      <td>80.0</td>\n",
       "      <td>6.0</td>\n",
       "      <td>2.0</td>\n",
       "      <td>0.826410</td>\n",
       "      <td>0.407365</td>\n",
       "    </tr>\n",
       "    <tr>\n",
       "      <th>2</th>\n",
       "      <td>80.0</td>\n",
       "      <td>6.0</td>\n",
       "      <td>3.0</td>\n",
       "      <td>0.827893</td>\n",
       "      <td>0.393098</td>\n",
       "    </tr>\n",
       "    <tr>\n",
       "      <th>3</th>\n",
       "      <td>80.0</td>\n",
       "      <td>6.0</td>\n",
       "      <td>4.0</td>\n",
       "      <td>0.860119</td>\n",
       "      <td>0.348564</td>\n",
       "    </tr>\n",
       "    <tr>\n",
       "      <th>4</th>\n",
       "      <td>80.0</td>\n",
       "      <td>6.0</td>\n",
       "      <td>5.0</td>\n",
       "      <td>0.822917</td>\n",
       "      <td>0.399791</td>\n",
       "    </tr>\n",
       "  </tbody>\n",
       "</table>\n",
       "</div>"
      ],
      "text/plain": [
       "   Dimensions  Epochs  Fold   Val_Acc  Val_Loss\n",
       "0        80.0     6.0   1.0  0.842730  0.383363\n",
       "1        80.0     6.0   2.0  0.826410  0.407365\n",
       "2        80.0     6.0   3.0  0.827893  0.393098\n",
       "3        80.0     6.0   4.0  0.860119  0.348564\n",
       "4        80.0     6.0   5.0  0.822917  0.399791"
      ]
     },
     "metadata": {},
     "output_type": "display_data"
    },
    {
     "data": {
      "text/html": [
       "<div>\n",
       "<style scoped>\n",
       "    .dataframe tbody tr th:only-of-type {\n",
       "        vertical-align: middle;\n",
       "    }\n",
       "\n",
       "    .dataframe tbody tr th {\n",
       "        vertical-align: top;\n",
       "    }\n",
       "\n",
       "    .dataframe thead th {\n",
       "        text-align: right;\n",
       "    }\n",
       "</style>\n",
       "<table border=\"1\" class=\"dataframe\">\n",
       "  <thead>\n",
       "    <tr style=\"text-align: right;\">\n",
       "      <th></th>\n",
       "      <th>Dimension</th>\n",
       "      <th>Epoch Avg</th>\n",
       "      <th>Val_Acc Avg</th>\n",
       "      <th>Val_Loss Avg</th>\n",
       "    </tr>\n",
       "  </thead>\n",
       "  <tbody>\n",
       "    <tr>\n",
       "      <th>0</th>\n",
       "      <td>80.0</td>\n",
       "      <td>6.0</td>\n",
       "      <td>0.836014</td>\n",
       "      <td>0.386436</td>\n",
       "    </tr>\n",
       "  </tbody>\n",
       "</table>\n",
       "</div>"
      ],
      "text/plain": [
       "   Dimension  Epoch Avg  Val_Acc Avg  Val_Loss Avg\n",
       "0       80.0        6.0     0.836014      0.386436"
      ]
     },
     "execution_count": 9,
     "metadata": {},
     "output_type": "execute_result"
    }
   ],
   "source": [
    "#COLLATING RESULTS\n",
    "averages = pd.DataFrame(columns=['Dimension','Epoch Avg','Val_Acc Avg','Val_Loss Avg'])\n",
    "for dim in dims:\n",
    "    results = scores[scores.Dimensions==dim]\n",
    "    display(results)\n",
    "    results.pop('Fold')\n",
    "    results.pop('Dimensions')\n",
    "    dictionary = {'Dimension':dim,'Epoch Avg':results.Epochs.describe()[1],'Val_Acc Avg':results.Val_Acc.describe()[1],'Val_Loss Avg':results.Val_Loss.describe()[1]}\n",
    "    averages = averages.append(dictionary, ignore_index=True)\n",
    "averages"
   ]
  },
  {
   "cell_type": "code",
   "execution_count": 10,
   "metadata": {
    "ExecuteTime": {
     "end_time": "2020-04-22T16:24:08.298052Z",
     "start_time": "2020-04-22T16:24:08.260313Z"
    }
   },
   "outputs": [],
   "source": [
    "#CREATE PIPLINE TO TEST MODEL ON INPUT SENTENCES:\n",
    "def predict(x):\n",
    "    x = x.lower()\n",
    "    x = decontracted(x)\n",
    "    x = re.sub(r'[^\\w\\s]','',x)\n",
    "    x = \"\".join(lem(x))\n",
    "    x = one_hot(x, vocab_size)\n",
    "    while len(x)<max_length:\n",
    "        x.append(0)\n",
    "    x = np.array(x)\n",
    "    x = x.reshape(1,-1)\n",
    "    return int(round(model.predict(x)[0][0],0))"
   ]
  },
  {
   "cell_type": "code",
   "execution_count": 11,
   "metadata": {
    "ExecuteTime": {
     "end_time": "2020-04-22T16:24:13.276926Z",
     "start_time": "2020-04-22T16:24:13.250271Z"
    }
   },
   "outputs": [
    {
     "name": "stdout",
     "output_type": "stream",
     "text": [
      "1\n",
      "0\n"
     ]
    }
   ],
   "source": [
    "#EXAMPLE\n",
    "print(predict('good customer service'))\n",
    "print(predict('bad customer service'))"
   ]
  },
  {
   "cell_type": "code",
   "execution_count": 12,
   "metadata": {
    "ExecuteTime": {
     "end_time": "2020-04-22T16:24:24.631345Z",
     "start_time": "2020-04-22T16:24:23.640463Z"
    }
   },
   "outputs": [
    {
     "data": {
      "text/html": [
       "<div>\n",
       "<style scoped>\n",
       "    .dataframe tbody tr th:only-of-type {\n",
       "        vertical-align: middle;\n",
       "    }\n",
       "\n",
       "    .dataframe tbody tr th {\n",
       "        vertical-align: top;\n",
       "    }\n",
       "\n",
       "    .dataframe thead th {\n",
       "        text-align: right;\n",
       "    }\n",
       "</style>\n",
       "<table border=\"1\" class=\"dataframe\">\n",
       "  <thead>\n",
       "    <tr style=\"text-align: right;\">\n",
       "      <th></th>\n",
       "      <th>Sentence</th>\n",
       "      <th>Entity</th>\n",
       "      <th>Prediction</th>\n",
       "    </tr>\n",
       "  </thead>\n",
       "  <tbody>\n",
       "    <tr>\n",
       "      <th>814</th>\n",
       "      <td>so far i have never had a problem with them.</td>\n",
       "      <td>problem</td>\n",
       "      <td>0</td>\n",
       "    </tr>\n",
       "    <tr>\n",
       "      <th>1102</th>\n",
       "      <td>quotes online it is the reason i chose axa insurance services</td>\n",
       "      <td>insurance</td>\n",
       "      <td>0</td>\n",
       "    </tr>\n",
       "    <tr>\n",
       "      <th>1262</th>\n",
       "      <td>some high value benefits can just disappear, like non-smoker cashback of £150 a year.</td>\n",
       "      <td>benefits</td>\n",
       "      <td>1</td>\n",
       "    </tr>\n",
       "    <tr>\n",
       "      <th>909</th>\n",
       "      <td>because the billing is sometimes a hassle</td>\n",
       "      <td>hassle</td>\n",
       "      <td>0</td>\n",
       "    </tr>\n",
       "    <tr>\n",
       "      <th>549</th>\n",
       "      <td>Having compared many different car insurers I was pleasantly surprised to find that my current insurers was one of best prices quoted I had expected it to have increased.</td>\n",
       "      <td>prices</td>\n",
       "      <td>1</td>\n",
       "    </tr>\n",
       "  </tbody>\n",
       "</table>\n",
       "</div>"
      ],
      "text/plain": [
       "                                                                                                                                                                        Sentence     Entity  Prediction\n",
       "814                                                                                                                                 so far i have never had a problem with them.    problem           0\n",
       "1102                                                                                                               quotes online it is the reason i chose axa insurance services  insurance           0\n",
       "1262                                                                                       some high value benefits can just disappear, like non-smoker cashback of £150 a year.   benefits           1\n",
       "909                                                                                                                                    because the billing is sometimes a hassle     hassle           0\n",
       "549   Having compared many different car insurers I was pleasantly surprised to find that my current insurers was one of best prices quoted I had expected it to have increased.     prices           1"
      ]
     },
     "execution_count": 12,
     "metadata": {},
     "output_type": "execute_result"
    }
   ],
   "source": [
    "#RUNNING MODEL ON UNLABELED TEST DATASET\n",
    "test_df = pd.read_excel('test.xlsx')\n",
    "test_df['Prediction'] = [predict(x) for x in test_df['Sentence']]\n",
    "test_df.sample(n=5)"
   ]
  },
  {
   "cell_type": "code",
   "execution_count": 13,
   "metadata": {
    "ExecuteTime": {
     "end_time": "2020-04-22T16:24:45.105732Z",
     "start_time": "2020-04-22T16:24:42.010995Z"
    }
   },
   "outputs": [
    {
     "name": "stdout",
     "output_type": "stream",
     "text": [
      "Precision:  0.92\n",
      "Recall:  0.93\n",
      "f1:  0.46\n"
     ]
    },
    {
     "data": {
      "image/png": "[encoded data removed]",
      "text/plain": [
       "<Figure size 432x288 with 2 Axes>"
      ]
     },
     "metadata": {
      "needs_background": "light"
     },
     "output_type": "display_data"
    }
   ],
   "source": [
    "#RUNNING MODEL ON TRAINING SET TO COMPARE PREDICTIONS WITH GROUND TRUTHS\n",
    "df['Prediction'] = [predict(x) for x in df.Sentence]\n",
    "confusion_matrix = pd.crosstab(df['Sentiment'], df['Prediction'], rownames=['Actual'], colnames=['Predicted'])\n",
    "\n",
    "sn.heatmap(confusion_matrix, annot=True,fmt='g')\n",
    "true_pos = confusion_matrix[1][1]\n",
    "true_neg = confusion_matrix[0][0]\n",
    "false_pos = confusion_matrix[1][0]\n",
    "false_neg = confusion_matrix[0][1]\n",
    "\n",
    "precision = (true_pos)/(true_pos+false_pos)\n",
    "recall = (true_pos)/(true_pos+false_neg)\n",
    "f1 = (precision*recall)/(precision+recall)\n",
    "\n",
    "print('Precision: ',round(precision,2))\n",
    "print('Recall: ',round(recall,2))\n",
    "print('f1: ',round(f1,2))"
   ]
  },
  {
   "cell_type": "code",
   "execution_count": 14,
   "metadata": {
    "ExecuteTime": {
     "end_time": "2020-04-22T16:25:05.640878Z",
     "start_time": "2020-04-22T16:25:05.602710Z"
    },
    "scrolled": true
   },
   "outputs": [
    {
     "data": {
      "text/html": [
       "<div>\n",
       "<style scoped>\n",
       "    .dataframe tbody tr th:only-of-type {\n",
       "        vertical-align: middle;\n",
       "    }\n",
       "\n",
       "    .dataframe tbody tr th {\n",
       "        vertical-align: top;\n",
       "    }\n",
       "\n",
       "    .dataframe thead th {\n",
       "        text-align: right;\n",
       "    }\n",
       "</style>\n",
       "<table border=\"1\" class=\"dataframe\">\n",
       "  <thead>\n",
       "    <tr style=\"text-align: right;\">\n",
       "      <th></th>\n",
       "      <th>Sentence</th>\n",
       "      <th>Sentiment</th>\n",
       "      <th>Prediction</th>\n",
       "      <th>Result</th>\n",
       "    </tr>\n",
       "  </thead>\n",
       "  <tbody>\n",
       "    <tr>\n",
       "      <th>2330</th>\n",
       "      <td>A good quote but very annoying to have to telephone you at the end of the internet process and go through most of the in formation again!</td>\n",
       "      <td>0</td>\n",
       "      <td>1</td>\n",
       "      <td>FP</td>\n",
       "    </tr>\n",
       "    <tr>\n",
       "      <th>2096</th>\n",
       "      <td>The ease of uploading of no claims proof speeds up the process.</td>\n",
       "      <td>1</td>\n",
       "      <td>0</td>\n",
       "      <td>FN</td>\n",
       "    </tr>\n",
       "    <tr>\n",
       "      <th>369</th>\n",
       "      <td>When I asked questions she gave me clear answers and the rationale behind it it.</td>\n",
       "      <td>1</td>\n",
       "      <td>0</td>\n",
       "      <td>FN</td>\n",
       "    </tr>\n",
       "    <tr>\n",
       "      <th>3127</th>\n",
       "      <td>Told them what i required and what i didnt - great price and service</td>\n",
       "      <td>0</td>\n",
       "      <td>1</td>\n",
       "      <td>FP</td>\n",
       "    </tr>\n",
       "    <tr>\n",
       "      <th>2695</th>\n",
       "      <td>Really disappointed that for the most genuine of reasons at the age of 50 after 32 years of driving i am told i cannot add a temporary car to my policy !!!</td>\n",
       "      <td>0</td>\n",
       "      <td>1</td>\n",
       "      <td>FP</td>\n",
       "    </tr>\n",
       "  </tbody>\n",
       "</table>\n",
       "</div>"
      ],
      "text/plain": [
       "                                                                                                                                                         Sentence  Sentiment  Prediction Result\n",
       "2330                    A good quote but very annoying to have to telephone you at the end of the internet process and go through most of the in formation again!          0           1     FP\n",
       "2096                                                                                              The ease of uploading of no claims proof speeds up the process.          1           0     FN\n",
       "369                                                                              When I asked questions she gave me clear answers and the rationale behind it it.          1           0     FN\n",
       "3127                                                                                         Told them what i required and what i didnt - great price and service          0           1     FP\n",
       "2695  Really disappointed that for the most genuine of reasons at the age of 50 after 32 years of driving i am told i cannot add a temporary car to my policy !!!          0           1     FP"
      ]
     },
     "execution_count": 14,
     "metadata": {},
     "output_type": "execute_result"
    }
   ],
   "source": [
    "#ANALYSING WHERE THE MODEL PREDICTED INCORRECTLY\n",
    "def result(x,y):\n",
    "    if x==0 and y ==0:\n",
    "        return \"TN\"\n",
    "    if x==0 and y==1:\n",
    "        return 'FP'\n",
    "    if x==1 and y ==1:\n",
    "        return \"TP\"\n",
    "    if x==1 and y==0:\n",
    "        return 'FN'\n",
    "    \n",
    "df['Result'] = [result(x,y) for x,y in zip(df.Sentiment,df.Prediction)]\n",
    "df =df[['Sentence','Sentiment','Prediction','Result']]\n",
    "df[(df.Result=='FP') | (df.Result=='FN')].sample(n=5)"
   ]
  },
  {
   "cell_type": "code",
   "execution_count": null,
   "metadata": {},
   "outputs": [],
   "source": []
  }
 ],
 "metadata": {
  "kernelspec": {
   "display_name": "Python 3",
   "language": "python",
   "name": "python3"
  },
  "language_info": {
   "codemirror_mode": {
    "name": "ipython",
    "version": 3
   },
   "file_extension": ".py",
   "mimetype": "text/x-python",
   "name": "python",
   "nbconvert_exporter": "python",
   "pygments_lexer": "ipython3",
   "version": "3.7.3"
  },
  "varInspector": {
   "cols": {
    "lenName": 16,
    "lenType": 16,
    "lenVar": 40
   },
   "kernels_config": {
    "python": {
     "delete_cmd_postfix": "",
     "delete_cmd_prefix": "del ",
     "library": "var_list.py",
     "varRefreshCmd": "print(var_dic_list())"
    },
    "r": {
     "delete_cmd_postfix": ") ",
     "delete_cmd_prefix": "rm(",
     "library": "var_list.r",
     "varRefreshCmd": "cat(var_dic_list()) "
    }
   },
   "position": {
    "height": "144px",
    "left": "783px",
    "right": "20px",
    "top": "121px",
    "width": "350px"
   },
   "types_to_exclude": [
    "module",
    "function",
    "builtin_function_or_method",
    "instance",
    "_Feature"
   ],
   "window_display": true
  }
 },
 "nbformat": 4,
 "nbformat_minor": 2
}
