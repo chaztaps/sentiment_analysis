{
 "cells": [
  {
   "cell_type": "code",
   "execution_count": 186,
   "metadata": {
    "ExecuteTime": {
     "end_time": "2020-04-22T15:54:37.749773Z",
     "start_time": "2020-04-22T15:54:37.727718Z"
    }
   },
   "outputs": [
    {
     "data": {
      "text/html": [
       "<style>.container { width:90% !important; }</style>"
      ],
      "text/plain": [
       "<IPython.core.display.HTML object>"
      ]
     },
     "metadata": {},
     "output_type": "display_data"
    }
   ],
   "source": [
    "#BASIC MODULES\n",
    "import re\n",
    "import os\n",
    "import string\n",
    "import numpy as np\n",
    "import pandas as pd\n",
    "import seaborn as sn\n",
    "from numpy import array\n",
    "import matplotlib.pyplot as plt\n",
    "\n",
    "#MODULE FOR STRATIFIED K-FOLD CROSS-VALIDATION\n",
    "from sklearn.model_selection import StratifiedKFold\n",
    "\n",
    "#KERAS MODULES FOR NN MODELS\n",
    "from keras import optimizers\n",
    "from tensorflow.keras.callbacks import EarlyStopping, ModelCheckpoint\n",
    "from keras.preprocessing.text import one_hot\n",
    "from keras.preprocessing.sequence import pad_sequences\n",
    "from keras.models import Sequential\n",
    "from keras.layers import Dense, Flatten\n",
    "from keras.layers.embeddings import Embedding\n",
    "from nltk.stem import WordNetLemmatizer\n",
    "\n",
    "#MODULES FOR DISPLAY PURPOSES\n",
    "pd.set_option('display.max_rows', 5000)\n",
    "pd.set_option('display.max_columns', 5000)\n",
    "pd.set_option('display.width', 10000)\n",
    "pd.set_option('display.max_colwidth', 100000000)\n",
    "pd.set_option('display.max_info_columns', 100000000)\n",
    "from IPython.core.display import display, HTML\n",
    "display(HTML(\"<style>.container { width:90% !important; }</style>\"))\n",
    "\n",
    "#HIDE REPEATING WARNING\n",
    "def warn(*args, **kwargs):\n",
    "    pass\n",
    "import warnings\n",
    "warnings.warn = warn"
   ]
  },
  {
   "cell_type": "code",
   "execution_count": 187,
   "metadata": {
    "ExecuteTime": {
     "end_time": "2020-04-22T15:54:40.039298Z",
     "start_time": "2020-04-22T15:54:39.741672Z"
    }
   },
   "outputs": [
    {
     "data": {
      "text/plain": [
       "1    1683\n",
       "0    1683\n",
       "Name: Sentiment, dtype: int64"
      ]
     },
     "execution_count": 187,
     "metadata": {},
     "output_type": "execute_result"
    }
   ],
   "source": [
    "#IMPORT DATA AND DROP DUPLICATES\n",
    "df = pd.read_excel('train.xlsx')\n",
    "df = df.drop_duplicates('Sentence')\n",
    "\n",
    "#NUMERIZE SENTIMENT\n",
    "polarity = {'positive': 1,'negative': 0} \n",
    "df['Sentiment'] = [polarity[item] for item in df.Sentiment] \n",
    "\n",
    "#BALANCE SENTIMENT\n",
    "pos = df[df.Sentiment==1].sample(n = len(df[df.Sentiment==0]))\n",
    "neg = df[df.Sentiment==0]\n",
    "df = pos.append(neg)\n",
    "df.Sentiment.value_counts()"
   ]
  },
  {
   "cell_type": "code",
   "execution_count": 188,
   "metadata": {
    "ExecuteTime": {
     "end_time": "2020-04-22T15:54:42.212409Z",
     "start_time": "2020-04-22T15:54:41.915227Z"
    }
   },
   "outputs": [
    {
     "data": {
      "text/html": [
       "<div>\n",
       "<style scoped>\n",
       "    .dataframe tbody tr th:only-of-type {\n",
       "        vertical-align: middle;\n",
       "    }\n",
       "\n",
       "    .dataframe tbody tr th {\n",
       "        vertical-align: top;\n",
       "    }\n",
       "\n",
       "    .dataframe thead th {\n",
       "        text-align: right;\n",
       "    }\n",
       "</style>\n",
       "<table border=\"1\" class=\"dataframe\">\n",
       "  <thead>\n",
       "    <tr style=\"text-align: right;\">\n",
       "      <th></th>\n",
       "      <th>Sentence</th>\n",
       "      <th>Sentence2</th>\n",
       "      <th>length</th>\n",
       "      <th>Sentiment</th>\n",
       "    </tr>\n",
       "  </thead>\n",
       "  <tbody>\n",
       "    <tr>\n",
       "      <th>0</th>\n",
       "      <td>quick and efficient service provided but in common with most companies was forced to pay for a courtesy car which was not required.</td>\n",
       "      <td>quick and efficient service provide but in common with most company be force to pay for a courtesy car which be not require</td>\n",
       "      <td>23</td>\n",
       "      <td>0</td>\n",
       "    </tr>\n",
       "    <tr>\n",
       "      <th>1</th>\n",
       "      <td>After a quick query by telephone we arranged insurance for our new home online with ease.</td>\n",
       "      <td>after a quick query by telephone we arrange insurance for our new home online with ease</td>\n",
       "      <td>16</td>\n",
       "      <td>1</td>\n",
       "    </tr>\n",
       "  </tbody>\n",
       "</table>\n",
       "</div>"
      ],
      "text/plain": [
       "                                                                                                                              Sentence                                                                                                                    Sentence2  length  Sentiment\n",
       "0  quick and efficient service provided but in common with most companies was forced to pay for a courtesy car which was not required.  quick and efficient service provide but in common with most company be force to pay for a courtesy car which be not require      23          0\n",
       "1                                            After a quick query by telephone we arranged insurance for our new home online with ease.                                      after a quick query by telephone we arrange insurance for our new home online with ease      16          1"
      ]
     },
     "execution_count": 188,
     "metadata": {},
     "output_type": "execute_result"
    }
   ],
   "source": [
    "#NORMALIZE TEXT DATA\n",
    "\n",
    "#SHUFFLE\n",
    "df = df.sample(frac=1).reset_index(drop=True)\n",
    "\n",
    "#LOWER CASE\n",
    "df['Sentence2'] = [x.lower() for x in df.Sentence]\n",
    "\n",
    "#CONTRACTIONS\n",
    "def decontracted(phrase):\n",
    "    phrase = re.sub(r\"n\\'t\", \" not\", phrase)\n",
    "    phrase = re.sub(r\"\\'re\", \" are\", phrase)\n",
    "    phrase = re.sub(r\"\\'s\", \" is\", phrase)\n",
    "    phrase = re.sub(r\"\\'d\", \" would\", phrase)\n",
    "    phrase = re.sub(r\"\\'ll\", \" will\", phrase)\n",
    "    phrase = re.sub(r\"\\'t\", \" not\", phrase)\n",
    "    phrase = re.sub(r\"\\'ve\", \" have\", phrase)\n",
    "    phrase = re.sub(r\"\\'m\", \" am\", phrase)\n",
    "    return phrase\n",
    "df['Sentence2'] = [decontracted(x) for x in df['Sentence2']]\n",
    "\n",
    "\n",
    "#REMOVE PUNCTUATION\n",
    "df['Sentence2'] = df['Sentence2'].str.replace(\"[^a-zA-Z#]\", \" \")\n",
    "df['Sentence2'] = [x.replace(\"\\\\n\",'') for x in df.Sentence2]\n",
    "\n",
    "#TOKENIZE - FOR NLTK\n",
    "df['Sentence2'] = [x.split() for x in df.Sentence2]\n",
    "\n",
    "#LEMENZIE - NLTK\n",
    "wordnet_lemmatizer = WordNetLemmatizer()\n",
    "def lem(words):\n",
    "    return [wordnet_lemmatizer.lemmatize(word,pos=\"v\") for word in words]\n",
    "df['Sentence2'] = [lem(x) for x in df['Sentence2']]\n",
    "df['Sentence2'] = [\" \".join(x) for x in df.Sentence2]\n",
    "\n",
    "#FIND NUMBER OF WORDS IN EACH ENTRY\n",
    "df['length'] = [len(x.split()) for x in df.Sentence2]\n",
    "df = df[['Sentence','Sentence2','length','Sentiment']]\n",
    "df.head(2)"
   ]
  },
  {
   "cell_type": "code",
   "execution_count": 189,
   "metadata": {
    "ExecuteTime": {
     "end_time": "2020-04-22T15:54:45.221493Z",
     "start_time": "2020-04-22T15:54:45.202266Z"
    }
   },
   "outputs": [
    {
     "data": {
      "text/plain": [
       "3397"
      ]
     },
     "execution_count": 189,
     "metadata": {},
     "output_type": "execute_result"
    }
   ],
   "source": [
    "#FIND NUMBER OF UNIQUE WORDS\n",
    "allwords = df.Sentence2.values.tolist()\n",
    "vocab_size = len(list(set(\" \".join(allwords).split())))\n",
    "vocab_size"
   ]
  },
  {
   "cell_type": "code",
   "execution_count": 190,
   "metadata": {
    "ExecuteTime": {
     "end_time": "2020-04-22T15:54:47.949069Z",
     "start_time": "2020-04-22T15:54:47.829853Z"
    }
   },
   "outputs": [],
   "source": [
    "#GET FROM DATAFRAME\n",
    "X = df['Sentence2'].values.tolist()\n",
    "y = df['Sentiment'].values\n",
    "\n",
    "#CONVERT WORDS TO NUMBERS\n",
    "X_encoded = [one_hot(d, vocab_size) for d in X]\n",
    "\n",
    "#PADDING OUT ARRAYS TO LENGTH OF LONGEST ARRAY\n",
    "max_length = df['length'].max()+10 # plus 10 TO ACCOUNT FOR EXTRA WORDS DURING TESTING\n",
    "X_padded = pad_sequences(X_encoded, maxlen=max_length, padding='post')"
   ]
  },
  {
   "cell_type": "code",
   "execution_count": 191,
   "metadata": {
    "ExecuteTime": {
     "end_time": "2020-04-22T15:54:50.419923Z",
     "start_time": "2020-04-22T15:54:50.406569Z"
    }
   },
   "outputs": [
    {
     "name": "stdout",
     "output_type": "stream",
     "text": [
      "after a quick query by telephone we arrange insurance for our new home online with ease \n",
      "\n",
      "[1370, 2010, 1316, 3168, 329, 193, 438, 297, 19, 1982, 1837, 2948, 175, 3277, 3089, 160] \n",
      "\n",
      "[1370 2010 1316 3168  329  193  438  297   19 1982 1837 2948  175 3277\n",
      " 3089  160    0    0    0    0    0    0    0    0    0    0    0    0\n",
      "    0    0    0    0    0    0    0    0    0    0    0    0    0    0\n",
      "    0    0    0    0    0    0    0    0    0    0    0    0    0    0\n",
      "    0    0    0    0    0    0    0    0    0    0    0    0    0    0\n",
      "    0    0    0    0    0    0    0    0    0    0    0    0    0    0\n",
      "    0    0    0    0    0    0    0    0    0    0    0    0    0    0\n",
      "    0    0    0    0    0    0    0    0    0    0    0    0    0    0\n",
      "    0    0    0    0    0    0    0    0    0    0    0    0    0    0\n",
      "    0    0    0    0    0    0    0    0    0    0    0    0    0    0\n",
      "    0    0    0    0    0    0    0    0    0]\n"
     ]
    }
   ],
   "source": [
    "#DISPLAY VARIOUS STAGES OF DATA TRANSFORMATION\n",
    "print(X[1],\"\\n\")\n",
    "print(X_encoded[1],\"\\n\")\n",
    "print(X_padded[1])"
   ]
  },
  {
   "cell_type": "code",
   "execution_count": 193,
   "metadata": {
    "ExecuteTime": {
     "end_time": "2020-04-22T15:58:24.678951Z",
     "start_time": "2020-04-22T15:56:25.347184Z"
    },
    "scrolled": true
   },
   "outputs": [
    {
     "name": "stdout",
     "output_type": "stream",
     "text": [
      "Fold #1\n",
      "Train on 2692 samples, validate on 674 samples\n",
      "Epoch 1/999\n",
      "2692/2692 [==============================] - 3s 1ms/step - loss: 0.5546 - accuracy: 0.7296 - val_loss: 0.4252 - val_accuracy: 0.7982\n",
      "Epoch 2/999\n",
      "2692/2692 [==============================] - 3s 1ms/step - loss: 0.3643 - accuracy: 0.8451 - val_loss: 0.4086 - val_accuracy: 0.8338\n",
      "Epoch 3/999\n",
      "2692/2692 [==============================] - 3s 1ms/step - loss: 0.3428 - accuracy: 0.8670 - val_loss: 0.4073 - val_accuracy: 0.8501\n",
      "Epoch 4/999\n",
      "2692/2692 [==============================] - 3s 1ms/step - loss: 0.3290 - accuracy: 0.8756 - val_loss: 0.4124 - val_accuracy: 0.8457\n",
      "Epoch 5/999\n",
      "2692/2692 [==============================] - 3s 1ms/step - loss: 0.3189 - accuracy: 0.8908 - val_loss: 0.4033 - val_accuracy: 0.8665\n",
      "Epoch 6/999\n",
      "2692/2692 [==============================] - 3s 1ms/step - loss: 0.3103 - accuracy: 0.8930 - val_loss: 0.4250 - val_accuracy: 0.8739\n",
      "Epoch 7/999\n",
      "2692/2692 [==============================] - 3s 1ms/step - loss: 0.3012 - accuracy: 0.8952 - val_loss: 0.4171 - val_accuracy: 0.8739\n",
      "Epoch 8/999\n",
      "2692/2692 [==============================] - 3s 1ms/step - loss: 0.2969 - accuracy: 0.8978 - val_loss: 0.4164 - val_accuracy: 0.8724\n",
      "Epoch 9/999\n",
      "2692/2692 [==============================] - 3s 999us/step - loss: 0.2876 - accuracy: 0.9001 - val_loss: 0.4171 - val_accuracy: 0.8709\n",
      "Epoch 10/999\n",
      "2692/2692 [==============================] - 3s 1ms/step - loss: 0.2744 - accuracy: 0.9068 - val_loss: 0.4354 - val_accuracy: 0.8546\n",
      "\n",
      "Fold #2\n",
      "Train on 2692 samples, validate on 674 samples\n",
      "Epoch 1/999\n",
      "2692/2692 [==============================] - 3s 1ms/step - loss: 0.5705 - accuracy: 0.6932 - val_loss: 0.3990 - val_accuracy: 0.8279\n",
      "Epoch 2/999\n",
      "2692/2692 [==============================] - 3s 1ms/step - loss: 0.3802 - accuracy: 0.8321 - val_loss: 0.3525 - val_accuracy: 0.8442\n",
      "Epoch 3/999\n",
      "2692/2692 [==============================] - 3s 1ms/step - loss: 0.3453 - accuracy: 0.8577 - val_loss: 0.3510 - val_accuracy: 0.8531\n",
      "Epoch 4/999\n",
      "2692/2692 [==============================] - 2s 926us/step - loss: 0.3290 - accuracy: 0.8759 - val_loss: 0.3570 - val_accuracy: 0.8605\n",
      "Epoch 5/999\n",
      "2692/2692 [==============================] - 2s 926us/step - loss: 0.3151 - accuracy: 0.8852 - val_loss: 0.3650 - val_accuracy: 0.8680\n",
      "Epoch 6/999\n",
      "2692/2692 [==============================] - 3s 975us/step - loss: 0.3101 - accuracy: 0.8874 - val_loss: 0.3941 - val_accuracy: 0.8665\n",
      "Epoch 7/999\n",
      "2692/2692 [==============================] - 3s 943us/step - loss: 0.3031 - accuracy: 0.8930 - val_loss: 0.3840 - val_accuracy: 0.8680\n",
      "Epoch 8/999\n",
      "2692/2692 [==============================] - 3s 1ms/step - loss: 0.2907 - accuracy: 0.8993 - val_loss: 0.3919 - val_accuracy: 0.8680\n",
      "\n",
      "Fold #3\n",
      "Train on 2692 samples, validate on 674 samples\n",
      "Epoch 1/999\n",
      "2692/2692 [==============================] - 4s 1ms/step - loss: 0.5591 - accuracy: 0.7125 - val_loss: 0.3924 - val_accuracy: 0.8234\n",
      "Epoch 2/999\n",
      "2692/2692 [==============================] - 4s 1ms/step - loss: 0.3688 - accuracy: 0.8410 - val_loss: 0.3670 - val_accuracy: 0.8501\n",
      "Epoch 3/999\n",
      "2692/2692 [==============================] - 4s 1ms/step - loss: 0.3437 - accuracy: 0.8663 - val_loss: 0.3803 - val_accuracy: 0.8576\n",
      "Epoch 4/999\n",
      "2692/2692 [==============================] - 3s 1ms/step - loss: 0.3277 - accuracy: 0.8800 - val_loss: 0.3834 - val_accuracy: 0.8516\n",
      "Epoch 5/999\n",
      "2692/2692 [==============================] - 3s 1ms/step - loss: 0.3191 - accuracy: 0.8841 - val_loss: 0.4216 - val_accuracy: 0.8516\n",
      "Epoch 6/999\n",
      "2692/2692 [==============================] - 4s 1ms/step - loss: 0.3087 - accuracy: 0.8904 - val_loss: 0.4182 - val_accuracy: 0.8546\n",
      "Epoch 7/999\n",
      "2692/2692 [==============================] - 3s 1ms/step - loss: 0.2957 - accuracy: 0.8949 - val_loss: 0.4275 - val_accuracy: 0.8501\n",
      "\n",
      "Fold #4\n",
      "Train on 2694 samples, validate on 672 samples\n",
      "Epoch 1/999\n",
      "2694/2694 [==============================] - 3s 1ms/step - loss: 0.5823 - accuracy: 0.7045 - val_loss: 0.4294 - val_accuracy: 0.8199\n",
      "Epoch 2/999\n",
      "2694/2694 [==============================] - 3s 1ms/step - loss: 0.3702 - accuracy: 0.8359 - val_loss: 0.4024 - val_accuracy: 0.8467\n",
      "Epoch 3/999\n",
      "2694/2694 [==============================] - 2s 921us/step - loss: 0.3427 - accuracy: 0.8612 - val_loss: 0.3986 - val_accuracy: 0.8557\n",
      "Epoch 4/999\n",
      "2694/2694 [==============================] - 3s 978us/step - loss: 0.3189 - accuracy: 0.8719 - val_loss: 0.4042 - val_accuracy: 0.8646\n",
      "Epoch 5/999\n",
      "2694/2694 [==============================] - 3s 1ms/step - loss: 0.3061 - accuracy: 0.8849 - val_loss: 0.4121 - val_accuracy: 0.8676\n",
      "Epoch 6/999\n",
      "2694/2694 [==============================] - 3s 938us/step - loss: 0.2992 - accuracy: 0.8935 - val_loss: 0.4206 - val_accuracy: 0.8661\n",
      "Epoch 7/999\n",
      "2694/2694 [==============================] - 2s 901us/step - loss: 0.2865 - accuracy: 0.8957 - val_loss: 0.4279 - val_accuracy: 0.8690\n",
      "Epoch 8/999\n",
      "2694/2694 [==============================] - 3s 981us/step - loss: 0.2745 - accuracy: 0.9057 - val_loss: 0.4342 - val_accuracy: 0.8750\n",
      "\n",
      "Fold #5\n",
      "Train on 2694 samples, validate on 672 samples\n",
      "Epoch 1/999\n",
      "2694/2694 [==============================] - 3s 1ms/step - loss: 0.5575 - accuracy: 0.7242 - val_loss: 0.4302 - val_accuracy: 0.8021\n",
      "Epoch 2/999\n",
      "2694/2694 [==============================] - 3s 1ms/step - loss: 0.3624 - accuracy: 0.8456 - val_loss: 0.4097 - val_accuracy: 0.8333\n",
      "Epoch 3/999\n",
      "2694/2694 [==============================] - 3s 975us/step - loss: 0.3382 - accuracy: 0.8693 - val_loss: 0.4208 - val_accuracy: 0.8408\n",
      "Epoch 4/999\n",
      "2694/2694 [==============================] - 3s 1ms/step - loss: 0.3207 - accuracy: 0.8805 - val_loss: 0.4399 - val_accuracy: 0.8452\n",
      "Epoch 5/999\n",
      "2694/2694 [==============================] - 3s 1ms/step - loss: 0.3101 - accuracy: 0.8905 - val_loss: 0.4900 - val_accuracy: 0.8408\n",
      "Epoch 6/999\n",
      "2694/2694 [==============================] - 3s 938us/step - loss: 0.3003 - accuracy: 0.8912 - val_loss: 0.4561 - val_accuracy: 0.8482\n",
      "Epoch 7/999\n",
      "2694/2694 [==============================] - 3s 1ms/step - loss: 0.2888 - accuracy: 0.9009 - val_loss: 0.4894 - val_accuracy: 0.8542\n",
      "\n"
     ]
    }
   ],
   "source": [
    "#K-FOLDS SPLITTING\n",
    "kf = StratifiedKFold(5, shuffle=True, random_state=42)\n",
    "scores = pd.DataFrame(columns = ['Dimensions','Epochs','Fold','Val_Acc','Val_Loss'])\n",
    "val_acc_scores = []\n",
    "val_loss_scores = []\n",
    "fold = 0\n",
    "for train, val in kf.split(X_padded,df['Sentiment']):\n",
    "    fold+=1\n",
    "    print(f\"Fold #{fold}\")\n",
    "    X_train = X_padded[train]\n",
    "    y_train = y[train]\n",
    "    X_val = X_padded[val]\n",
    "    y_val = y[val]\n",
    "    \n",
    "    #BEST RRSULTS = 80\n",
    "    dims = [10,20,40,80,160,320]\n",
    "    for dim in dims:\n",
    "        #BUILD NN\n",
    "        model = Sequential()\n",
    "        model.add(Embedding(vocab_size, dim, input_length=max_length))\n",
    "        model.add(Flatten())\n",
    "        model.add(Dense(1, activation='sigmoid'))\n",
    "        \n",
    "        #EARLY STOPPING\n",
    "        Callbacks = EarlyStopping(monitor='val_loss', \n",
    "                                                  min_delta=0.00001, \n",
    "                                                  patience=5, \n",
    "                                                  verbose=0, \n",
    "                                                  mode='auto')\n",
    "        \n",
    "        #COMPILE NN\n",
    "        model.compile(optimizer='rmsprop',\n",
    "                      loss='binary_crossentropy',\n",
    "                      metrics=['accuracy'])\n",
    "        \n",
    "        #RUN MODEL AND RECORD METRICS    \n",
    "        history = model.fit(X_train, y_train,\n",
    "                        batch_size=1,\n",
    "                        epochs=999,\n",
    "                        callbacks = [Callbacks],\n",
    "                        validation_data=(X_val, y_val),verbose=1)\n",
    "        \n",
    "        dictionary = {'Dimensions':dim, 'Epochs':len(history.history['val_accuracy']),'Fold':fold, 'Val_Acc':history.history['val_accuracy'][0],'Val_Loss':history.history['val_loss'][0]}\n",
    "        scores = scores.append(dictionary, ignore_index=True)\n",
    "        print()"
   ]
  },
  {
   "cell_type": "code",
   "execution_count": 194,
   "metadata": {
    "ExecuteTime": {
     "end_time": "2020-04-22T15:58:26.965370Z",
     "start_time": "2020-04-22T15:58:26.929804Z"
    },
    "scrolled": false
   },
   "outputs": [
    {
     "data": {
      "text/html": [
       "<div>\n",
       "<style scoped>\n",
       "    .dataframe tbody tr th:only-of-type {\n",
       "        vertical-align: middle;\n",
       "    }\n",
       "\n",
       "    .dataframe tbody tr th {\n",
       "        vertical-align: top;\n",
       "    }\n",
       "\n",
       "    .dataframe thead th {\n",
       "        text-align: right;\n",
       "    }\n",
       "</style>\n",
       "<table border=\"1\" class=\"dataframe\">\n",
       "  <thead>\n",
       "    <tr style=\"text-align: right;\">\n",
       "      <th></th>\n",
       "      <th>Dimensions</th>\n",
       "      <th>Epochs</th>\n",
       "      <th>Fold</th>\n",
       "      <th>Val_Acc</th>\n",
       "      <th>Val_Loss</th>\n",
       "    </tr>\n",
       "  </thead>\n",
       "  <tbody>\n",
       "    <tr>\n",
       "      <th>0</th>\n",
       "      <td>10.0</td>\n",
       "      <td>10.0</td>\n",
       "      <td>1.0</td>\n",
       "      <td>0.798220</td>\n",
       "      <td>0.425162</td>\n",
       "    </tr>\n",
       "    <tr>\n",
       "      <th>1</th>\n",
       "      <td>10.0</td>\n",
       "      <td>8.0</td>\n",
       "      <td>2.0</td>\n",
       "      <td>0.827893</td>\n",
       "      <td>0.398963</td>\n",
       "    </tr>\n",
       "    <tr>\n",
       "      <th>2</th>\n",
       "      <td>10.0</td>\n",
       "      <td>7.0</td>\n",
       "      <td>3.0</td>\n",
       "      <td>0.823442</td>\n",
       "      <td>0.392389</td>\n",
       "    </tr>\n",
       "    <tr>\n",
       "      <th>3</th>\n",
       "      <td>10.0</td>\n",
       "      <td>8.0</td>\n",
       "      <td>4.0</td>\n",
       "      <td>0.819940</td>\n",
       "      <td>0.429402</td>\n",
       "    </tr>\n",
       "    <tr>\n",
       "      <th>4</th>\n",
       "      <td>10.0</td>\n",
       "      <td>7.0</td>\n",
       "      <td>5.0</td>\n",
       "      <td>0.802083</td>\n",
       "      <td>0.430218</td>\n",
       "    </tr>\n",
       "  </tbody>\n",
       "</table>\n",
       "</div>"
      ],
      "text/plain": [
       "   Dimensions  Epochs  Fold   Val_Acc  Val_Loss\n",
       "0        10.0    10.0   1.0  0.798220  0.425162\n",
       "1        10.0     8.0   2.0  0.827893  0.398963\n",
       "2        10.0     7.0   3.0  0.823442  0.392389\n",
       "3        10.0     8.0   4.0  0.819940  0.429402\n",
       "4        10.0     7.0   5.0  0.802083  0.430218"
      ]
     },
     "metadata": {},
     "output_type": "display_data"
    },
    {
     "data": {
      "text/html": [
       "<div>\n",
       "<style scoped>\n",
       "    .dataframe tbody tr th:only-of-type {\n",
       "        vertical-align: middle;\n",
       "    }\n",
       "\n",
       "    .dataframe tbody tr th {\n",
       "        vertical-align: top;\n",
       "    }\n",
       "\n",
       "    .dataframe thead th {\n",
       "        text-align: right;\n",
       "    }\n",
       "</style>\n",
       "<table border=\"1\" class=\"dataframe\">\n",
       "  <thead>\n",
       "    <tr style=\"text-align: right;\">\n",
       "      <th></th>\n",
       "      <th>Dimension</th>\n",
       "      <th>Epoch Avg</th>\n",
       "      <th>Val_Acc Avg</th>\n",
       "      <th>Val_Loss Avg</th>\n",
       "    </tr>\n",
       "  </thead>\n",
       "  <tbody>\n",
       "    <tr>\n",
       "      <th>0</th>\n",
       "      <td>10.0</td>\n",
       "      <td>8.0</td>\n",
       "      <td>0.814316</td>\n",
       "      <td>0.415227</td>\n",
       "    </tr>\n",
       "  </tbody>\n",
       "</table>\n",
       "</div>"
      ],
      "text/plain": [
       "   Dimension  Epoch Avg  Val_Acc Avg  Val_Loss Avg\n",
       "0       10.0        8.0     0.814316      0.415227"
      ]
     },
     "execution_count": 194,
     "metadata": {},
     "output_type": "execute_result"
    }
   ],
   "source": [
    "#COLLATING RESULTS\n",
    "averages = pd.DataFrame(columns=['Dimension','Epoch Avg','Val_Acc Avg','Val_Loss Avg'])\n",
    "for dim in dims:\n",
    "    results = scores[scores.Dimensions==dim]\n",
    "    display(results)\n",
    "    results.pop('Fold')\n",
    "    results.pop('Dimensions')\n",
    "    dictionary = {'Dimension':dim,'Epoch Avg':results.Epochs.describe()[1],'Val_Acc Avg':results.Val_Acc.describe()[1],'Val_Loss Avg':results.Val_Loss.describe()[1]}\n",
    "    averages = averages.append(dictionary, ignore_index=True)\n",
    "averages"
   ]
  },
  {
   "cell_type": "code",
   "execution_count": 195,
   "metadata": {
    "ExecuteTime": {
     "end_time": "2020-04-22T15:59:35.016415Z",
     "start_time": "2020-04-22T15:59:34.991869Z"
    }
   },
   "outputs": [],
   "source": [
    "#CREATE PIPLINE TO TEST MODEL ON INPUT SENTENCES:\n",
    "def predict(x):\n",
    "    x = x.lower()\n",
    "    x = decontracted(x)\n",
    "    x = re.sub(r'[^\\w\\s]','',x)\n",
    "    x = \"\".join(lem(x))\n",
    "    x = one_hot(x, vocab_size)\n",
    "    while len(x)<max_length:\n",
    "        x.append(0)\n",
    "    x = np.array(x)\n",
    "    x = x.reshape(1,-1)\n",
    "    return int(round(model.predict(x)[0][0],0))"
   ]
  },
  {
   "cell_type": "code",
   "execution_count": 196,
   "metadata": {
    "ExecuteTime": {
     "end_time": "2020-04-22T15:59:37.287735Z",
     "start_time": "2020-04-22T15:59:37.247686Z"
    }
   },
   "outputs": [
    {
     "name": "stdout",
     "output_type": "stream",
     "text": [
      "1\n",
      "0\n"
     ]
    }
   ],
   "source": [
    "#EXAMPLE\n",
    "print(predict('good customer service'))\n",
    "print(predict('bad customer service'))"
   ]
  },
  {
   "cell_type": "code",
   "execution_count": 197,
   "metadata": {
    "ExecuteTime": {
     "end_time": "2020-04-22T15:59:40.460599Z",
     "start_time": "2020-04-22T15:59:39.556275Z"
    }
   },
   "outputs": [
    {
     "data": {
      "text/html": [
       "<div>\n",
       "<style scoped>\n",
       "    .dataframe tbody tr th:only-of-type {\n",
       "        vertical-align: middle;\n",
       "    }\n",
       "\n",
       "    .dataframe tbody tr th {\n",
       "        vertical-align: top;\n",
       "    }\n",
       "\n",
       "    .dataframe thead th {\n",
       "        text-align: right;\n",
       "    }\n",
       "</style>\n",
       "<table border=\"1\" class=\"dataframe\">\n",
       "  <thead>\n",
       "    <tr style=\"text-align: right;\">\n",
       "      <th></th>\n",
       "      <th>Sentence</th>\n",
       "      <th>Entity</th>\n",
       "      <th>Prediction</th>\n",
       "    </tr>\n",
       "  </thead>\n",
       "  <tbody>\n",
       "    <tr>\n",
       "      <th>1062</th>\n",
       "      <td>well i've never had any problem with then, but that's not to say others wouldn't !</td>\n",
       "      <td>problem</td>\n",
       "      <td>0</td>\n",
       "    </tr>\n",
       "    <tr>\n",
       "      <th>915</th>\n",
       "      <td>good service, but i have never made a claim.</td>\n",
       "      <td>claim</td>\n",
       "      <td>0</td>\n",
       "    </tr>\n",
       "    <tr>\n",
       "      <th>812</th>\n",
       "      <td>i have to go elsewhere to get a better deal.</td>\n",
       "      <td>deal</td>\n",
       "      <td>0</td>\n",
       "    </tr>\n",
       "    <tr>\n",
       "      <th>986</th>\n",
       "      <td>never had a problem with them neither with premium or claim.</td>\n",
       "      <td>problem</td>\n",
       "      <td>0</td>\n",
       "    </tr>\n",
       "    <tr>\n",
       "      <th>1148</th>\n",
       "      <td>they could have provided a competitive renewal price in the first place, this would have avoided me searching round to find a better price which axa then matched.</td>\n",
       "      <td>renewal price</td>\n",
       "      <td>1</td>\n",
       "    </tr>\n",
       "  </tbody>\n",
       "</table>\n",
       "</div>"
      ],
      "text/plain": [
       "                                                                                                                                                                Sentence         Entity  Prediction\n",
       "1062                                                                                  well i've never had any problem with then, but that's not to say others wouldn't !        problem           0\n",
       "915                                                                                                                         good service, but i have never made a claim.          claim           0\n",
       "812                                                                                                                         i have to go elsewhere to get a better deal.           deal           0\n",
       "986                                                                                                         never had a problem with them neither with premium or claim.        problem           0\n",
       "1148  they could have provided a competitive renewal price in the first place, this would have avoided me searching round to find a better price which axa then matched.  renewal price           1"
      ]
     },
     "execution_count": 197,
     "metadata": {},
     "output_type": "execute_result"
    }
   ],
   "source": [
    "#RUNNING MODEL ON UNLABELED TEST DATASET\n",
    "test_df = pd.read_excel('test.xlsx')\n",
    "test_df['Prediction'] = [predict(x) for x in test_df['Sentence']]\n",
    "test_df.sample(n=5)"
   ]
  },
  {
   "cell_type": "code",
   "execution_count": 198,
   "metadata": {
    "ExecuteTime": {
     "end_time": "2020-04-22T15:59:45.303023Z",
     "start_time": "2020-04-22T15:59:42.797897Z"
    }
   },
   "outputs": [
    {
     "name": "stdout",
     "output_type": "stream",
     "text": [
      "Precision:  0.89\n",
      "Recall:  0.88\n",
      "f1:  0.44\n"
     ]
    },
    {
     "data": {
      "image/png": "[encoded data removed]",
      "text/plain": [
       "<Figure size 432x288 with 2 Axes>"
      ]
     },
     "metadata": {
      "needs_background": "light"
     },
     "output_type": "display_data"
    }
   ],
   "source": [
    "#RUNNING MODEL ON TRAINING SET TO COMPARE PREDICTIONS WITH GROUND TRUTHS\n",
    "df['Prediction'] = [predict(x) for x in df.Sentence]\n",
    "confusion_matrix = pd.crosstab(df['Sentiment'], df['Prediction'], rownames=['Actual'], colnames=['Predicted'])\n",
    "\n",
    "sn.heatmap(confusion_matrix, annot=True,fmt='g')\n",
    "true_pos = confusion_matrix[1][1]\n",
    "true_neg = confusion_matrix[0][0]\n",
    "false_pos = confusion_matrix[1][0]\n",
    "false_neg = confusion_matrix[0][1]\n",
    "\n",
    "precision = (true_pos)/(true_pos+false_pos)\n",
    "recall = (true_pos)/(true_pos+false_neg)\n",
    "f1 = (precision*recall)/(precision+recall)\n",
    "\n",
    "print('Precision: ',round(precision,2))\n",
    "print('Recall: ',round(recall,2))\n",
    "print('f1: ',round(f1,2))"
   ]
  },
  {
   "cell_type": "code",
   "execution_count": 199,
   "metadata": {
    "ExecuteTime": {
     "end_time": "2020-04-22T15:59:59.098863Z",
     "start_time": "2020-04-22T15:59:59.065003Z"
    },
    "scrolled": true
   },
   "outputs": [
    {
     "data": {
      "text/html": [
       "<div>\n",
       "<style scoped>\n",
       "    .dataframe tbody tr th:only-of-type {\n",
       "        vertical-align: middle;\n",
       "    }\n",
       "\n",
       "    .dataframe tbody tr th {\n",
       "        vertical-align: top;\n",
       "    }\n",
       "\n",
       "    .dataframe thead th {\n",
       "        text-align: right;\n",
       "    }\n",
       "</style>\n",
       "<table border=\"1\" class=\"dataframe\">\n",
       "  <thead>\n",
       "    <tr style=\"text-align: right;\">\n",
       "      <th></th>\n",
       "      <th>Sentence</th>\n",
       "      <th>Sentiment</th>\n",
       "      <th>Prediction</th>\n",
       "      <th>Result</th>\n",
       "    </tr>\n",
       "  </thead>\n",
       "  <tbody>\n",
       "    <tr>\n",
       "      <th>3258</th>\n",
       "      <td>Paying was easy call operater was excellent but a rather noisy background.</td>\n",
       "      <td>0</td>\n",
       "      <td>1</td>\n",
       "      <td>FP</td>\n",
       "    </tr>\n",
       "    <tr>\n",
       "      <th>3139</th>\n",
       "      <td>all great except the wording on whether you were happy to receive further contact i. e. marketing via email text etc was purposely confusing i did not want to receive further contact and had to read the question several times because of the way it was worded but i can see i've ticked the wrong boxes because it was not clear and i am already receiving emails so i will now have to phone to have this removed.</td>\n",
       "      <td>0</td>\n",
       "      <td>1</td>\n",
       "      <td>FP</td>\n",
       "    </tr>\n",
       "    <tr>\n",
       "      <th>367</th>\n",
       "      <td>Great value and made some savings compared to my previous insurer.</td>\n",
       "      <td>0</td>\n",
       "      <td>1</td>\n",
       "      <td>FP</td>\n",
       "    </tr>\n",
       "    <tr>\n",
       "      <th>2944</th>\n",
       "      <td>I used a comparison site but still chose AXA as a good policy.</td>\n",
       "      <td>1</td>\n",
       "      <td>0</td>\n",
       "      <td>FN</td>\n",
       "    </tr>\n",
       "    <tr>\n",
       "      <th>142</th>\n",
       "      <td>With regards to improvements please don't assume that everybody owns a computer although the representative informed me that a hard copy would be sent via the postal system another positive experience - congratulations.</td>\n",
       "      <td>1</td>\n",
       "      <td>0</td>\n",
       "      <td>FN</td>\n",
       "    </tr>\n",
       "  </tbody>\n",
       "</table>\n",
       "</div>"
      ],
      "text/plain": [
       "                                                                                                                                                                                                                                                                                                                                                                                                                       Sentence  Sentiment  Prediction Result\n",
       "3258                                                                                                                                                                                                                                                                                                                                                 Paying was easy call operater was excellent but a rather noisy background.          0           1     FP\n",
       "3139  all great except the wording on whether you were happy to receive further contact i. e. marketing via email text etc was purposely confusing i did not want to receive further contact and had to read the question several times because of the way it was worded but i can see i've ticked the wrong boxes because it was not clear and i am already receiving emails so i will now have to phone to have this removed.          0           1     FP\n",
       "367                                                                                                                                                                                                                                                                                                                                                          Great value and made some savings compared to my previous insurer.          0           1     FP\n",
       "2944                                                                                                                                                                                                                                                                                                                                                             I used a comparison site but still chose AXA as a good policy.          1           0     FN\n",
       "142                                                                                                                                                                                                 With regards to improvements please don't assume that everybody owns a computer although the representative informed me that a hard copy would be sent via the postal system another positive experience - congratulations.          1           0     FN"
      ]
     },
     "execution_count": 199,
     "metadata": {},
     "output_type": "execute_result"
    }
   ],
   "source": [
    "#ANALYSING WHERE THE MODEL PREDICTED INCORRECTLY\n",
    "def result(x,y):\n",
    "    if x==0 and y ==0:\n",
    "        return \"TN\"\n",
    "    if x==0 and y==1:\n",
    "        return 'FP'\n",
    "    if x==1 and y ==1:\n",
    "        return \"TP\"\n",
    "    if x==1 and y==0:\n",
    "        return 'FN'\n",
    "    \n",
    "df['Result'] = [result(x,y) for x,y in zip(df.Sentiment,df.Prediction)]\n",
    "df =df[['Sentence','Sentiment','Prediction','Result']]\n",
    "df[(df.Result=='FP') | (df.Result=='FN')].sample(n=5)"
   ]
  },
  {
   "cell_type": "code",
   "execution_count": null,
   "metadata": {},
   "outputs": [],
   "source": []
  }
 ],
 "metadata": {
  "kernelspec": {
   "display_name": "Python 3",
   "language": "python",
   "name": "python3"
  },
  "language_info": {
   "codemirror_mode": {
    "name": "ipython",
    "version": 3
   },
   "file_extension": ".py",
   "mimetype": "text/x-python",
   "name": "python",
   "nbconvert_exporter": "python",
   "pygments_lexer": "ipython3",
   "version": "3.7.3"
  },
  "varInspector": {
   "cols": {
    "lenName": 16,
    "lenType": 16,
    "lenVar": 40
   },
   "kernels_config": {
    "python": {
     "delete_cmd_postfix": "",
     "delete_cmd_prefix": "del ",
     "library": "var_list.py",
     "varRefreshCmd": "print(var_dic_list())"
    },
    "r": {
     "delete_cmd_postfix": ") ",
     "delete_cmd_prefix": "rm(",
     "library": "var_list.r",
     "varRefreshCmd": "cat(var_dic_list()) "
    }
   },
   "position": {
    "height": "144px",
    "left": "783px",
    "right": "20px",
    "top": "121px",
    "width": "350px"
   },
   "types_to_exclude": [
    "module",
    "function",
    "builtin_function_or_method",
    "instance",
    "_Feature"
   ],
   "window_display": true
  }
 },
 "nbformat": 4,
 "nbformat_minor": 2
}
